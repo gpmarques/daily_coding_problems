{
 "cells": [
  {
   "cell_type": "markdown",
   "metadata": {},
   "source": [
    "# Problem\n",
    "This problem was asked by Google.\n",
    "\n",
    "An XOR linked list is a more memory efficient doubly linked list. Instead of each node holding next and prev fields, it holds a field named both, which is an XOR of the next node and the previous node. Implement an XOR linked list; it has an add(element) which adds the element to the end, and a get(index) which returns the node at index.\n",
    "\n",
    "If using a language that has no pointers (such as Python), you can assume you have access to get_pointer and dereference_pointer functions that converts between nodes and memory addresses."
   ]
  },
  {
   "cell_type": "code",
   "execution_count": 113,
   "metadata": {},
   "outputs": [],
   "source": [
    "import ctypes\n",
    "\n",
    "class Node:\n",
    "    def __init__(self, val):\n",
    "        self.val = val\n",
    "        self.both = 0\n",
    "    \n",
    "    def __repr__(self):\n",
    "        return 'Node <value: %(value)d, both: %(both)d>' % {\n",
    "                    'value': self.val,\n",
    "                    'both': self.both\n",
    "                }         \n",
    "\n",
    "class XORLinkedList:\n",
    "    def __init__(self):\n",
    "        self.head = self.tail = None\n",
    "        self.__nodes = []\n",
    "    \n",
    "    def __repr__(self):\n",
    "        if self.head:\n",
    "            return '''\n",
    "                Head <value: %(hvalue)d, both: %(hboth)d>,\n",
    "                Tail <value: %(tvalue)d, both: %(tboth)d>\n",
    "            ''' % {\n",
    "                    'hvalue': self.head.val,\n",
    "                    'hboth': self.head.both,\n",
    "                    'tvalue': self.tail.val,\n",
    "                    'tboth': self.tail.both\n",
    "            }\n",
    "        return 'Empty doubly linked list'\n",
    "        \n",
    "    def get(self, index):\n",
    "        prev_id = 0\n",
    "        node = self.head\n",
    "        for i in range(index):\n",
    "            next_id = prev_id ^ node.both\n",
    "            if next_id:\n",
    "                prev_id = id(node)\n",
    "                node = _get_obj(next_id)\n",
    "            else:\n",
    "                raise IndexError('Linked list index out of range')\n",
    "        return node     \n",
    "\n",
    "    def add(self, node):\n",
    "        if self.head is None:\n",
    "            self.head = self.tail = node\n",
    "        else:\n",
    "            self.tail.both = id(node) ^ self.tail.both          \n",
    "            node.both = id(self.tail)\n",
    "            self.tail = node\n",
    "\n",
    "        # Without this line, Python thinks there is no way to reach nodes between head and tail.\n",
    "        self.__nodes.append(node)\n",
    "    \n",
    "    def insert(self, i, node): # plus\n",
    "        if not self.head:\n",
    "            return self.__repr__()\n",
    "        \n",
    "        if i == 0:\n",
    "            node.both = id(self.head) ^ 0\n",
    "            self.head.both = self.head.both ^ id(node)\n",
    "            self.head = node\n",
    "        else:\n",
    "            try:\n",
    "                ith_prev = self.get(i-1)\n",
    "                ith = self.get(i)\n",
    "            except IndexError as e:\n",
    "                return str(e)\n",
    "\n",
    "            ith_prev.both = ith_prev.both ^ id(ith) # removing the pointer to ith node\n",
    "            ith_prev.both = ith_prev.both ^ id(node) # adding the pointer to the new node\n",
    "\n",
    "            ith.both = id(ith_prev) ^ ith.both # removing the pointer to ith_prev node\n",
    "            ith.both = ith.both ^ id(node) # adding the pointer to the new node\n",
    "\n",
    "            node.both = id(ith_prev) ^ id(ith) # pointing the new node to ith_prev and ith nodes\n",
    "        \n",
    "        self.__nodes.insert(i, node)"
   ]
  },
  {
   "cell_type": "code",
   "execution_count": 114,
   "metadata": {},
   "outputs": [],
   "source": [
    "def _get_obj(id):\n",
    "    return ctypes.cast(id, ctypes.py_object).value   "
   ]
  },
  {
   "cell_type": "code",
   "execution_count": 115,
   "metadata": {},
   "outputs": [
    {
     "name": "stdout",
     "output_type": "stream",
     "text": [
      "Empty doubly linked list\n"
     ]
    }
   ],
   "source": [
    "xorll = XORLinkedList()\n",
    "print(xorll)"
   ]
  },
  {
   "cell_type": "code",
   "execution_count": 116,
   "metadata": {},
   "outputs": [],
   "source": [
    "xorll.add(Node(10))\n",
    "xorll.add(Node(20))\n",
    "xorll.add(Node(30))"
   ]
  },
  {
   "cell_type": "code",
   "execution_count": 117,
   "metadata": {},
   "outputs": [
    {
     "data": {
      "text/plain": [
       "\n",
       "                Head <value: 10, both: 4470160912>,\n",
       "                Tail <value: 30, both: 4470160912>\n",
       "            "
      ]
     },
     "execution_count": 117,
     "metadata": {},
     "output_type": "execute_result"
    }
   ],
   "source": [
    "xorll"
   ]
  },
  {
   "cell_type": "code",
   "execution_count": 118,
   "metadata": {},
   "outputs": [],
   "source": [
    "xorll.insert(1, Node(15))"
   ]
  },
  {
   "cell_type": "code",
   "execution_count": 119,
   "metadata": {},
   "outputs": [
    {
     "name": "stdout",
     "output_type": "stream",
     "text": [
      "Node <value: 10, both: 4470160128>\n",
      "Node <value: 15, both: 664>\n",
      "Node <value: 20, both: 1064>\n",
      "Node <value: 30, both: 4470160912>\n"
     ]
    }
   ],
   "source": [
    "for i in range(4):\n",
    "    print(xorll.get(i))"
   ]
  },
  {
   "cell_type": "code",
   "execution_count": 120,
   "metadata": {},
   "outputs": [],
   "source": [
    "xorll.insert(3, Node(25))"
   ]
  },
  {
   "cell_type": "code",
   "execution_count": 121,
   "metadata": {},
   "outputs": [
    {
     "name": "stdout",
     "output_type": "stream",
     "text": [
      "Node <value: 10, both: 4470160128>\n",
      "Node <value: 15, both: 664>\n",
      "Node <value: 20, both: 2600>\n",
      "Node <value: 25, both: 312>\n",
      "Node <value: 30, both: 4470157608>\n"
     ]
    }
   ],
   "source": [
    "for i in range(5):\n",
    "    print(xorll.get(i))"
   ]
  },
  {
   "cell_type": "code",
   "execution_count": 122,
   "metadata": {},
   "outputs": [],
   "source": [
    "xorll.insert(0, Node(5))"
   ]
  },
  {
   "cell_type": "code",
   "execution_count": 123,
   "metadata": {},
   "outputs": [
    {
     "data": {
      "text/plain": [
       "\n",
       "                Head <value: 5, both: 4470160520>,\n",
       "                Tail <value: 30, both: 4470157608>\n",
       "            "
      ]
     },
     "execution_count": 123,
     "metadata": {},
     "output_type": "execute_result"
    }
   ],
   "source": [
    "xorll"
   ]
  },
  {
   "cell_type": "code",
   "execution_count": 124,
   "metadata": {},
   "outputs": [
    {
     "name": "stdout",
     "output_type": "stream",
     "text": [
      "Node <value: 5, both: 4470160520>\n",
      "Node <value: 10, both: 3488>\n",
      "Node <value: 15, both: 664>\n",
      "Node <value: 20, both: 2600>\n",
      "Node <value: 25, both: 312>\n",
      "Node <value: 30, both: 4470157608>\n"
     ]
    }
   ],
   "source": [
    "for i in range(6):\n",
    "    print(xorll.get(i))"
   ]
  }
 ],
 "metadata": {
  "kernelspec": {
   "display_name": "Python 3",
   "language": "python",
   "name": "python3"
  },
  "language_info": {
   "codemirror_mode": {
    "name": "ipython",
    "version": 3
   },
   "file_extension": ".py",
   "mimetype": "text/x-python",
   "name": "python",
   "nbconvert_exporter": "python",
   "pygments_lexer": "ipython3",
   "version": "3.7.0"
  }
 },
 "nbformat": 4,
 "nbformat_minor": 2
}
