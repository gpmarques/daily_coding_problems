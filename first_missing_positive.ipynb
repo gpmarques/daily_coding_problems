{
 "cells": [
  {
   "cell_type": "markdown",
   "metadata": {},
   "source": [
    "# Problem\n",
    "\n",
    "Given an array of integers, find the first missing positive integer in linear time and constant space. In other words, find the lowest positive integer that does not exist in the array. The array can contain duplicates and negative numbers as well.\n",
    "\n",
    "For example, the input [3, 4, -1, 1] should give 2. The input [1, 2, 0] should give 3.\n",
    "\n",
    "You can modify the input array in-place."
   ]
  },
  {
   "cell_type": "code",
   "execution_count": null,
   "metadata": {},
   "outputs": [],
   "source": [
    "# [3, 4, -1, 1] -> 2\n",
    "# [1, 2, 0] -> 3"
   ]
  },
  {
   "cell_type": "code",
   "execution_count": 1,
   "metadata": {},
   "outputs": [],
   "source": [
    "lst = [1, 2, 0]\n",
    "answer = 3"
   ]
  },
  {
   "cell_type": "code",
   "execution_count": 29,
   "metadata": {},
   "outputs": [],
   "source": [
    "def sort(numbers):\n",
    "    \"\"\" Not valid since sorting is O(nlogn) \"\"\"\n",
    "    numbers.sort()\n",
    "    for i in range(len(numbers)):\n",
    "        if numbers[i] < 0:\n",
    "            continue\n",
    "        if i == len(numbers) - 1:\n",
    "            return numbers[i] + 1\n",
    "        if numbers[i] > i:\n",
    "            return i"
   ]
  },
  {
   "cell_type": "code",
   "execution_count": 30,
   "metadata": {},
   "outputs": [
    {
     "data": {
      "text/plain": [
       "3"
      ]
     },
     "execution_count": 30,
     "metadata": {},
     "output_type": "execute_result"
    }
   ],
   "source": [
    "sort(lst)"
   ]
  },
  {
   "cell_type": "code",
   "execution_count": 31,
   "metadata": {},
   "outputs": [
    {
     "data": {
      "text/plain": [
       "2"
      ]
     },
     "execution_count": 31,
     "metadata": {},
     "output_type": "execute_result"
    }
   ],
   "source": [
    "sort([3, 4, -1, 1])"
   ]
  },
  {
   "cell_type": "code",
   "execution_count": 21,
   "metadata": {},
   "outputs": [],
   "source": [
    "def linear(numbers):\n",
    "    \"\"\" Linear time, but not in constant space \"\"\"\n",
    "    numbers_set = set(numbers)\n",
    "    i = 1\n",
    "    while i in numbers_set:\n",
    "        i+=1\n",
    "    return i"
   ]
  },
  {
   "cell_type": "code",
   "execution_count": 22,
   "metadata": {},
   "outputs": [
    {
     "data": {
      "text/plain": [
       "3"
      ]
     },
     "execution_count": 22,
     "metadata": {},
     "output_type": "execute_result"
    }
   ],
   "source": [
    "linear(lst)"
   ]
  },
  {
   "cell_type": "code",
   "execution_count": 23,
   "metadata": {},
   "outputs": [
    {
     "data": {
      "text/plain": [
       "2"
      ]
     },
     "execution_count": 23,
     "metadata": {},
     "output_type": "execute_result"
    }
   ],
   "source": [
    "linear([3, 4, -1, 1])"
   ]
  },
  {
   "cell_type": "code",
   "execution_count": 32,
   "metadata": {},
   "outputs": [],
   "source": [
    "def first_missing_positive(nums):\n",
    "    \"\"\" O(n) with constant space.\n",
    "    It sorts the list by matching indexes and elements and doing swaps, while ignoring 0/negative values and numbers \n",
    "    bigger than the list length.\n",
    "    \"\"\"\n",
    "    if not nums:\n",
    "        return 1\n",
    "    for i, num in enumerate(nums):\n",
    "        while i + 1 != nums[i] and 0 < nums[i] <= len(nums):\n",
    "            v = nums[i]\n",
    "            nums[i], nums[v - 1] = nums[v - 1], nums[i]\n",
    "            if nums[i] == nums[v - 1]:\n",
    "                break\n",
    "    for i, num in enumerate(nums, 1):\n",
    "        if num != i:\n",
    "            return i\n",
    "    return len(nums) + 1"
   ]
  },
  {
   "cell_type": "code",
   "execution_count": 33,
   "metadata": {},
   "outputs": [
    {
     "data": {
      "text/plain": [
       "2"
      ]
     },
     "execution_count": 33,
     "metadata": {},
     "output_type": "execute_result"
    }
   ],
   "source": [
    "first_missing_positive([3, 4, -1, 1])"
   ]
  }
 ],
 "metadata": {
  "kernelspec": {
   "display_name": "Python 3",
   "language": "python",
   "name": "python3"
  },
  "language_info": {
   "codemirror_mode": {
    "name": "ipython",
    "version": 3
   },
   "file_extension": ".py",
   "mimetype": "text/x-python",
   "name": "python",
   "nbconvert_exporter": "python",
   "pygments_lexer": "ipython3",
   "version": "3.7.0"
  }
 },
 "nbformat": 4,
 "nbformat_minor": 2
}
