{
 "cells": [
  {
   "cell_type": "markdown",
   "metadata": {},
   "source": [
    "# Problem\n",
    "Given an array of integers, return a new array such that each element at index i of the new array is the product of all the numbers in the original array except the one at i.\n",
    "\n",
    "For example, if our input was [1, 2, 3, 4, 5], the expected output would be [120, 60, 40, 30, 24]. If our input was [3, 2, 1], the expected output would be [2, 3, 6].\n",
    "\n",
    "Follow-up: what if you can't use division?"
   ]
  },
  {
   "cell_type": "code",
   "execution_count": 1,
   "metadata": {},
   "outputs": [],
   "source": [
    "lst = [3, 2, 4, 1]"
   ]
  },
  {
   "cell_type": "code",
   "execution_count": 2,
   "metadata": {},
   "outputs": [
    {
     "data": {
      "text/plain": [
       "[8, 12, 6, 24]"
      ]
     },
     "execution_count": 2,
     "metadata": {},
     "output_type": "execute_result"
    }
   ],
   "source": [
    "def division(lst):\n",
    "    \"\"\" Compute the product of all numbers in the list.\n",
    "    Them each position product is the division of the 'all numbers product' by the number of that position.\n",
    "    \"\"\"\n",
    "    all_prod = lst[0]\n",
    "    for i in range(1,len(lst)):\n",
    "        all_prod *= lst[i]\n",
    "    all_prod_lst = [None]*len(lst)\n",
    "    for i in range(len(lst)):\n",
    "        all_prod_lst[i] = int(all_prod/lst[i])\n",
    "    return all_prod_lst\n",
    "division(lst)"
   ]
  },
  {
   "cell_type": "code",
   "execution_count": 5,
   "metadata": {},
   "outputs": [
    {
     "name": "stdout",
     "output_type": "stream",
     "text": [
      "[3, 2, 4, 1]\n",
      "[3, 6, 24, 24]\n",
      "[24, 8, 4, 1]\n"
     ]
    },
    {
     "data": {
      "text/plain": [
       "[8, 12, 6, 24]"
      ]
     },
     "execution_count": 5,
     "metadata": {},
     "output_type": "execute_result"
    }
   ],
   "source": [
    "def products(nums):\n",
    "    \"\"\" Without division.\n",
    "    The ith element is the product of all numbers before that i and after it, so:\n",
    "    prefix list(product of elements before i) and suffix list(product of elements after i)\n",
    "    \"\"\"\n",
    "    print(nums)\n",
    "    prefix = []\n",
    "    suffix = []\n",
    "    length = len(nums)\n",
    "    for i in range(length):\n",
    "        if i == 0:\n",
    "            prefix.append(nums[i])\n",
    "            suffix.append(nums[length - i - 1])\n",
    "        else:\n",
    "            prefix.append(nums[i]*prefix[-1])\n",
    "            suffix.append(nums[length - i - 1]*suffix[-1])\n",
    "    suffix = list(reversed(suffix))\n",
    "    print(prefix)\n",
    "    print(suffix)\n",
    "    result = []\n",
    "    for i in range(length):\n",
    "        if i == 0:\n",
    "            result.append(suffix[i + 1])\n",
    "        elif i == length - 1:\n",
    "            result.append(prefix[i-1])\n",
    "        else:\n",
    "            result.append(prefix[i-1]*suffix[i + 1])\n",
    "    return result\n",
    "products(lst)"
   ]
  },
  {
   "cell_type": "code",
   "execution_count": null,
   "metadata": {},
   "outputs": [],
   "source": []
  },
  {
   "cell_type": "code",
   "execution_count": null,
   "metadata": {},
   "outputs": [],
   "source": []
  }
 ],
 "metadata": {
  "kernelspec": {
   "display_name": "Python 3",
   "language": "python",
   "name": "python3"
  },
  "language_info": {
   "codemirror_mode": {
    "name": "ipython",
    "version": 3
   },
   "file_extension": ".py",
   "mimetype": "text/x-python",
   "name": "python",
   "nbconvert_exporter": "python",
   "pygments_lexer": "ipython3",
   "version": "3.7.0"
  }
 },
 "nbformat": 4,
 "nbformat_minor": 2
}
