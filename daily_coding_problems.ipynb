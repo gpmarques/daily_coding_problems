{
 "cells": [
  {
   "cell_type": "markdown",
   "metadata": {},
   "source": [
    "# Problem\n",
    "Given a list of numbers and a number k, return whether any two numbers from the list add up to k.\n",
    "\n",
    "For example, given [10, 15, 3, 7] and k of 17, return true since 10 + 7 is 17.\n",
    "\n",
    "Bonus: Can you do this in one pass?"
   ]
  },
  {
   "cell_type": "code",
   "execution_count": 86,
   "metadata": {},
   "outputs": [],
   "source": [
    "import time\n",
    "import random\n",
    "numbers = random.sample(range(100000), 10000)\n",
    "k = random.randint(0, 10000)"
   ]
  },
  {
   "cell_type": "code",
   "execution_count": 91,
   "metadata": {},
   "outputs": [
    {
     "name": "stdout",
     "output_type": "stream",
     "text": [
      "True\n",
      "0.01073598861694336\n"
     ]
    }
   ],
   "source": [
    "def brute_force_two_sum(lst, k):\n",
    "    \"\"\" Brute force approach. \n",
    "    Sum all possible pairs until one of them add up to k.\n",
    "    O(n^2)\n",
    "    \"\"\"\n",
    "    for i in range(len(lst)):\n",
    "        for j in range(len(lst)):\n",
    "            if i is not j and numbers[j] + numbers[i] == k:\n",
    "                return True\n",
    "    return False\n",
    "start = time.time()\n",
    "print(brute_force_two_sum(numbers, k))\n",
    "end = time.time()\n",
    "print(end-start)"
   ]
  },
  {
   "cell_type": "code",
   "execution_count": 92,
   "metadata": {},
   "outputs": [
    {
     "name": "stdout",
     "output_type": "stream",
     "text": [
      "True\n",
      "0.0040760040283203125\n"
     ]
    }
   ],
   "source": [
    "def sort_binary_search_two_sum(lst, k):\n",
    "    \"\"\" Sorting and binary search approach. \n",
    "    Sort the list and do a binary search over the list.\n",
    "    O(nlogn)\n",
    "    \"\"\"\n",
    "    lst.sort()\n",
    "    lenght = len(lst)-1\n",
    "    num_sum = None\n",
    "    i = 0\n",
    "    j = lenght\n",
    "    while num_sum is not k and j > -1 and i < lenght+1:\n",
    "        num_sum = lst[i] + lst[j]\n",
    "        if num_sum == k:\n",
    "            return True\n",
    "        if num_sum > k:\n",
    "            j-=1\n",
    "        if num_sum < k:\n",
    "            i+=1\n",
    "    end = time.time()\n",
    "    return False\n",
    "start = time.time()\n",
    "print(sort_binary_search_two_sum(numbers, k))\n",
    "end = time.time()\n",
    "print(end-start)"
   ]
  },
  {
   "cell_type": "code",
   "execution_count": 93,
   "metadata": {},
   "outputs": [
    {
     "name": "stdout",
     "output_type": "stream",
     "text": [
      "2.193450927734375e-05\n"
     ]
    }
   ],
   "source": [
    "def hashing_two_sum(lst, k):\n",
    "    \"\"\" Hashing approach\n",
    "    Taking advantage of the Python data structure set(same as a hashing), which its operations\n",
    "    are O(n) on average, for each number compute the difference between him and k if this\n",
    "    value is in the set it means there are two numbers in the list that add up to k, if not, \n",
    "    add this number to the set for further comparisons.\n",
    "    O(n)\n",
    "    \"\"\"\n",
    "    seen = set()\n",
    "    for number in numbers:\n",
    "        target = k - number\n",
    "        if target in seen:\n",
    "            print(True)\n",
    "            break\n",
    "        seen.add(number)\n",
    "start = time.time()\n",
    "end = time.time()\n",
    "print(end-start)"
   ]
  },
  {
   "cell_type": "code",
   "execution_count": null,
   "metadata": {},
   "outputs": [],
   "source": []
  },
  {
   "cell_type": "code",
   "execution_count": null,
   "metadata": {},
   "outputs": [],
   "source": []
  },
  {
   "cell_type": "code",
   "execution_count": null,
   "metadata": {},
   "outputs": [],
   "source": []
  }
 ],
 "metadata": {
  "kernelspec": {
   "display_name": "Python 3",
   "language": "python",
   "name": "python3"
  },
  "language_info": {
   "codemirror_mode": {
    "name": "ipython",
    "version": 3
   },
   "file_extension": ".py",
   "mimetype": "text/x-python",
   "name": "python",
   "nbconvert_exporter": "python",
   "pygments_lexer": "ipython3",
   "version": "3.7.0"
  }
 },
 "nbformat": 4,
 "nbformat_minor": 2
}
