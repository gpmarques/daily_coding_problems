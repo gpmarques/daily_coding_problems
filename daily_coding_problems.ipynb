{
 "cells": [
  {
   "cell_type": "code",
   "execution_count": 51,
   "metadata": {},
   "outputs": [],
   "source": [
    "numbers = range(0, 10000)\n",
    "k = -1"
   ]
  },
  {
   "cell_type": "code",
   "execution_count": 52,
   "metadata": {},
   "outputs": [
    {
     "name": "stdout",
     "output_type": "stream",
     "text": [
      "13.577800035476685\n"
     ]
    }
   ],
   "source": [
    "import time\n",
    "start = time.time()\n",
    "for i in range(len(numbers)):\n",
    "    for index, number in enumerate(numbers[i:]):\n",
    "        if number + numbers[i] == k:\n",
    "            print(numbers[i])\n",
    "            print(number)\n",
    "            break\n",
    "end = time.time()\n",
    "print(end-start)\n",
    "n_squared = end-start\n",
    "# O(nˆ2)"
   ]
  },
  {
   "cell_type": "code",
   "execution_count": 53,
   "metadata": {},
   "outputs": [
    {
     "name": "stdout",
     "output_type": "stream",
     "text": [
      "0.007263898849487305\n"
     ]
    }
   ],
   "source": [
    "start = time.time()\n",
    "numbers = sorted(numbers)\n",
    "lenght = len(numbers)-1\n",
    "num_sum = None\n",
    "i = 0\n",
    "j = lenght\n",
    "while num_sum is not k and j > -1 and i < lenght+1:\n",
    "    num_sum = numbers[i] + numbers[j]\n",
    "    if num_sum == k:\n",
    "        print(True, i, j)\n",
    "        break\n",
    "    if num_sum > k:\n",
    "        j-=1\n",
    "    if num_sum < k:\n",
    "        i+=1\n",
    "end = time.time()\n",
    "print(end-start)\n",
    "nlogn = end-start\n",
    "# O(nlogn)"
   ]
  },
  {
   "cell_type": "code",
   "execution_count": 54,
   "metadata": {},
   "outputs": [
    {
     "data": {
      "text/plain": [
       "True"
      ]
     },
     "execution_count": 54,
     "metadata": {},
     "output_type": "execute_result"
    }
   ],
   "source": [
    "n_squared > nlogn"
   ]
  },
  {
   "cell_type": "code",
   "execution_count": null,
   "metadata": {},
   "outputs": [],
   "source": []
  },
  {
   "cell_type": "code",
   "execution_count": null,
   "metadata": {},
   "outputs": [],
   "source": []
  },
  {
   "cell_type": "code",
   "execution_count": null,
   "metadata": {},
   "outputs": [],
   "source": []
  }
 ],
 "metadata": {
  "kernelspec": {
   "display_name": "Python 3",
   "language": "python",
   "name": "python3"
  },
  "language_info": {
   "codemirror_mode": {
    "name": "ipython",
    "version": 3
   },
   "file_extension": ".py",
   "mimetype": "text/x-python",
   "name": "python",
   "nbconvert_exporter": "python",
   "pygments_lexer": "ipython3",
   "version": "3.7.0"
  }
 },
 "nbformat": 4,
 "nbformat_minor": 2
}
